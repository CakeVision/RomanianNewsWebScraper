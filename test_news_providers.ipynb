{
 "cells": [
  {
   "cell_type": "code",
   "execution_count": null,
   "id": "initial_id",
   "metadata": {
    "collapsed": true
   },
   "outputs": [],
   "source": [
    "companies = {\n",
    "\"AXPO\": [\"AXPO\", \"AXPO Energy Romania\"],\n",
    "\"CEZ\": [\"CEZ\", \"CEZ Vanzare\"],\n",
    "\"TERMOENERGETICA\": [\"TERMOENERGETICA\", \"Termoenergetica Bucuresti\"],\n",
    "\"TRANSELECTRICA\": [\"TRANSELECTRICA\", \"Compania Nationala de Transport al Energiei Electrice\"],\n",
    "\"DELGAZ\": [\"DELGAZ\", \"DELGAZ GRID\"],\n",
    "\"E.ON\": [\"E.ON\", \"E.ON Energie Romania\"],\n",
    "\"ELECTRICA\": [\"ELECTRICA\", \"ELECTRICA FURNIZARE\"],\n",
    "\"ENEL\": [\"ENEL\", \"ENEL ENERGIE\", \"ENEL GREEN POWER\"],\n",
    "\"ENGIE\": [\"ENGIE\", \"ENGIE ROMANIA\", \"ENGIE ENERGY MANAGEMENT\"],\n",
    "\"HIDROELECTRICA\": [\"HIDROELECTRICA\", \"Hidroelectrica SA\"],\n",
    "\"NUCLEARELECTRICA\": [\"NUCLEARELECTRICA\", \"Societatea Nationala Nuclearelectrica\"]\n",
    "}\n",
    "\n",
    "# Updated news sources with their search endpoints and parsing rules\n",
    "sources = {\n",
    "\"digi24\": {\n",
    "    \"base_url\": \"https://www.digi24.ro\",\n",
    "    \"search_path\": \"/search\",\n",
    "    \"search_param\": \"q\",\n",
    "    \"article_selector\": \"article.article-container\",\n",
    "    \"title_selector\": \"h2.article-title\",\n",
    "    \"date_selector\": \"span.article-date\",\n",
    "    \"link_selector\": \"a.article-link\"\n",
    "},\n",
    "\"antena3\": {\n",
    "    \"base_url\": \"https://www.antena3.ro\",\n",
    "    \"search_path\": \"/cautare\",\n",
    "    \"search_param\": \"termen\",\n",
    "    \"article_selector\": \"div.article-item\",\n",
    "    \"title_selector\": \"h3.title\",\n",
    "    \"date_selector\": \"time.date\",\n",
    "    \"link_selector\": \"a.article-link\"\n",
    "},\n",
    "\"protv\": {\n",
    "    \"base_url\": \"https://stirileprotv.ro\",\n",
    "    \"search_path\": \"/cautare\",\n",
    "    \"search_param\": \"q\",\n",
    "    \"article_selector\": \"div.article-box\",\n",
    "    \"title_selector\": \"h3.article-title\",\n",
    "    \"date_selector\": \"span.date\",\n",
    "    \"link_selector\": \"a.article-link\"\n",
    "},\n",
    "\"mediafax\": {\n",
    "    \"base_url\": \"https://www.mediafax.ro\",\n",
    "    \"search_path\": \"/cautare\",\n",
    "    \"search_param\": \"q\",\n",
    "    \"article_selector\": \"div.article-item\",\n",
    "    \"title_selector\": \"h2.title\",\n",
    "    \"date_selector\": \"time\",\n",
    "    \"link_selector\": \"a\"\n",
    "},\n",
    "\"zf\": {\n",
    "    \"base_url\": \"https://www.zf.ro\",\n",
    "    \"search_path\": \"/search\",\n",
    "    \"search_param\": \"q\",\n",
    "    \"article_selector\": \"div.article\",\n",
    "    \"title_selector\": \"h2\",\n",
    "    \"date_selector\": \"time\",\n",
    "    \"link_selector\": \"a.article-link\"\n",
    "},\n",
    "# Additional sources with their configurations...\n",
    "# (Similar structure for other sources)\n",
    "}\n",
    "\n",
    "headers = {\n",
    "'User-Agent': 'Mozilla/5.0 (Windows NT 10.0; Win64; x64) AppleWebKit/537.36 (KHTML, like Gecko) Chrome/91.0.4472.124 Safari/537.36',\n",
    "'Accept-Language': 'ro-RO,ro;q=0.9,en-US;q=0.8,en;q=0.7',\n",
    "'Accept': 'text/html,application/xhtml+xml,application/xml;q=0.9,image/webp,*/*;q=0.8',\n",
    "'DNT': '1',\n",
    "'Connection': 'keep-alive',\n",
    "'Upgrade-Insecure-Requests': '1'\n",
    "}\n"
   ]
  },
  {
   "cell_type": "code",
   "execution_count": null,
   "id": "6cd9326069d47869",
   "metadata": {},
   "outputs": [],
   "source": [
    "options = webdriver.FirefoxOptions()\n",
    "\n",
    "options.add_argument('--no-sandbox')\n",
    "options.add_argument('--disable-dev-shm-usage')\n",
    "options.add_argument('--disable-gpu')\n",
    "options.add_argument('--window-size=1920x1080')\n",
    "options.add_argument('--lang=ro-RO')\n",
    "\n",
    "# Use undetected-chromedriver to avoid detection\n",
    "driver = webdriver.Firefox(options)\n",
    "driver.set_page_load_timeout(30)"
   ]
  },
  {
   "cell_type": "code",
   "execution_count": null,
   "id": "b9415090",
   "metadata": {},
   "outputs": [],
   "source": [
    "def random_delay(self, min_seconds=2, max_seconds=5):\n",
    "    \"\"\"Add random delay between actions\"\"\"\n",
    "    time.sleep(random.uniform(min_seconds, max_seconds))\n",
    "\n"
   ]
  },
  {
   "metadata": {
    "ExecuteTime": {
     "end_time": "2024-11-09T22:15:13.739720Z",
     "start_time": "2024-11-09T22:15:13.726596Z"
    }
   },
   "cell_type": "code",
   "source": "arr = [\"thing\", \"another\", \"extra\"]",
   "id": "36e2a18c29bcc23d",
   "outputs": [],
   "execution_count": 1
  },
  {
   "metadata": {
    "ExecuteTime": {
     "end_time": "2024-11-09T22:15:13.825481Z",
     "start_time": "2024-11-09T22:15:13.820988Z"
    }
   },
   "cell_type": "code",
   "source": "string = \"hello: {:+}\"",
   "id": "4b8962a29df2a72a",
   "outputs": [],
   "execution_count": 2
  },
  {
   "metadata": {
    "ExecuteTime": {
     "end_time": "2024-11-09T22:15:14.044724Z",
     "start_time": "2024-11-09T22:15:13.825481Z"
    }
   },
   "cell_type": "code",
   "source": "string.format(arr)",
   "id": "3e86d7487905e007",
   "outputs": [
    {
     "ename": "TypeError",
     "evalue": "unsupported format string passed to list.__format__",
     "output_type": "error",
     "traceback": [
      "\u001B[1;31m---------------------------------------------------------------------------\u001B[0m",
      "\u001B[1;31mTypeError\u001B[0m                                 Traceback (most recent call last)",
      "Cell \u001B[1;32mIn[3], line 1\u001B[0m\n\u001B[1;32m----> 1\u001B[0m \u001B[43mstring\u001B[49m\u001B[38;5;241;43m.\u001B[39;49m\u001B[43mformat\u001B[49m\u001B[43m(\u001B[49m\u001B[43marr\u001B[49m\u001B[43m)\u001B[49m\n",
      "\u001B[1;31mTypeError\u001B[0m: unsupported format string passed to list.__format__"
     ]
    }
   ],
   "execution_count": 3
  }
 ],
 "metadata": {
  "kernelspec": {
   "display_name": "Python 3",
   "language": "python",
   "name": "python3"
  },
  "language_info": {
   "codemirror_mode": {
    "name": "ipython",
    "version": 2
   },
   "file_extension": ".py",
   "mimetype": "text/x-python",
   "name": "python",
   "nbconvert_exporter": "python",
   "pygments_lexer": "ipython2",
   "version": "2.7.6"
  }
 },
 "nbformat": 4,
 "nbformat_minor": 5
}
